{
 "cells": [
  {
   "cell_type": "code",
   "execution_count": 1,
   "id": "6fc1cb3d-3983-4836-adb8-d5463a0c849f",
   "metadata": {},
   "outputs": [],
   "source": [
    "import os, shutil\n"
   ]
  },
  {
   "cell_type": "code",
   "execution_count": 13,
   "id": "1a56c272-a099-43cc-be6c-ace705341dc5",
   "metadata": {},
   "outputs": [],
   "source": [
    "path = r\"C:/Users/Admin/Desktop/tutorial/\""
   ]
  },
  {
   "cell_type": "code",
   "execution_count": 18,
   "id": "f7874479-ed41-451b-9874-eee59ff53cda",
   "metadata": {},
   "outputs": [],
   "source": [
    " file_name = os.listdir(path)"
   ]
  },
  {
   "cell_type": "code",
   "execution_count": 15,
   "id": "82ccb013-658a-4663-811a-1ed28a1c33bc",
   "metadata": {},
   "outputs": [],
   "source": [
    "folder_name = ['image_file', 'csv_file', 'text_file', 'mp_file']\n",
    "for folder in range(0,3):\n",
    "    if not os.path.exists(path + folder_name[folder]):\n",
    "       os.makedirs(path + folder_name[folder])                   "
   ]
  },
  {
   "cell_type": "code",
   "execution_count": 25,
   "id": "7fd5dcc4-94a7-49cf-ba14-a8d6437b7781",
   "metadata": {},
   "outputs": [],
   "source": [
    "for file in file_name:\n",
    "    if \".csv\" in file and not os.path.exists(path + \"csv_file/\" + file):\n",
    "        shutil.move(path + file, path + \"csv_file/\" + file)\n",
    "    elif \".jpg\" in file and not os.path.exists(path + \"image_file/\" + file):\n",
    "        shutil.move(path + file, path + \"image_file/\" + file)\n",
    "    elif \".txt\" in file and not os.path.exists(path + \"text_file/\" + file):\n",
    "        shutil.move(path + file, path + \"text_file/\" + file)\n",
    "    "
   ]
  },
  {
   "cell_type": "code",
   "execution_count": null,
   "id": "74275784-0a1a-476b-9948-688bf00473d5",
   "metadata": {},
   "outputs": [],
   "source": []
  }
 ],
 "metadata": {
  "kernelspec": {
   "display_name": "Python 3 (ipykernel)",
   "language": "python",
   "name": "python3"
  },
  "language_info": {
   "codemirror_mode": {
    "name": "ipython",
    "version": 3
   },
   "file_extension": ".py",
   "mimetype": "text/x-python",
   "name": "python",
   "nbconvert_exporter": "python",
   "pygments_lexer": "ipython3",
   "version": "3.11.5"
  }
 },
 "nbformat": 4,
 "nbformat_minor": 5
}
